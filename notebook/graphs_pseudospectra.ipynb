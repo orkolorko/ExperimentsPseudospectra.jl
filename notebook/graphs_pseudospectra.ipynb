{
 "cells": [
  {
   "cell_type": "code",
   "execution_count": 2,
   "metadata": {},
   "outputs": [
    {
     "ename": "ArgumentError",
     "evalue": "ArgumentError: Package Pseudospectra [d6c5b33e-0240-5bd5-a771-a97ae748a961] is required but does not seem to be installed:\n - Run `Pkg.instantiate()` to install all recorded dependencies.\n",
     "output_type": "error",
     "traceback": [
      "ArgumentError: Package Pseudospectra [d6c5b33e-0240-5bd5-a771-a97ae748a961] is required but does not seem to be installed:\n",
      " - Run `Pkg.instantiate()` to install all recorded dependencies.\n",
      "\n",
      "\n",
      "Stacktrace:\n",
      "  [1] _require(pkg::Base.PkgId, env::String)\n",
      "    @ Base ./loading.jl:2423\n",
      "  [2] __require_prelocked(uuidkey::Base.PkgId, env::String)\n",
      "    @ Base ./loading.jl:2300\n",
      "  [3] #invoke_in_world#3\n",
      "    @ ./essentials.jl:1088 [inlined]\n",
      "  [4] invoke_in_world\n",
      "    @ ./essentials.jl:1085 [inlined]\n",
      "  [5] _require_prelocked(uuidkey::Base.PkgId, env::String)\n",
      "    @ Base ./loading.jl:2287\n",
      "  [6] macro expansion\n",
      "    @ ./loading.jl:2226 [inlined]\n",
      "  [7] macro expansion\n",
      "    @ ./lock.jl:273 [inlined]\n",
      "  [8] __require(into::Module, mod::Symbol)\n",
      "    @ Base ./loading.jl:2183\n",
      "  [9] #invoke_in_world#3\n",
      "    @ ./essentials.jl:1088 [inlined]\n",
      " [10] invoke_in_world\n",
      "    @ ./essentials.jl:1085 [inlined]\n",
      " [11] require(into::Module, mod::Symbol)\n",
      "    @ Base ./loading.jl:2176\n",
      " [12] eval\n",
      "    @ ./boot.jl:430 [inlined]\n",
      " [13] include_string(mapexpr::typeof(REPL.softscope), mod::Module, code::String, filename::String)\n",
      "    @ Base ./loading.jl:2628\n",
      " [14] #invokelatest#2\n",
      "    @ ./essentials.jl:1054 [inlined]\n",
      " [15] invokelatest\n",
      "    @ ./essentials.jl:1051 [inlined]\n",
      " [16] (::VSCodeServer.var\"#217#218\"{VSCodeServer.NotebookRunCellArguments, String})()\n",
      "    @ VSCodeServer ~/.vscode/extensions/julialang.language-julia-1.124.2/scripts/packages/VSCodeServer/src/serve_notebook.jl:24\n",
      " [17] withpath(f::VSCodeServer.var\"#217#218\"{VSCodeServer.NotebookRunCellArguments, String}, path::String)\n",
      "    @ VSCodeServer ~/.vscode/extensions/julialang.language-julia-1.124.2/scripts/packages/VSCodeServer/src/repl.jl:276\n",
      " [18] notebook_runcell_request(conn::VSCodeServer.JSONRPC.JSONRPCEndpoint{Base.PipeEndpoint, Base.PipeEndpoint}, params::VSCodeServer.NotebookRunCellArguments)\n",
      "    @ VSCodeServer ~/.vscode/extensions/julialang.language-julia-1.124.2/scripts/packages/VSCodeServer/src/serve_notebook.jl:13\n",
      " [19] dispatch_msg(x::VSCodeServer.JSONRPC.JSONRPCEndpoint{Base.PipeEndpoint, Base.PipeEndpoint}, dispatcher::VSCodeServer.JSONRPC.MsgDispatcher, msg::Dict{String, Any})\n",
      "    @ VSCodeServer.JSONRPC ~/.vscode/extensions/julialang.language-julia-1.124.2/scripts/packages/JSONRPC/src/typed.jl:67\n",
      " [20] serve_notebook(pipename::String, debugger_pipename::String, outputchannel_logger::Base.CoreLogging.SimpleLogger; error_handler::var\"#5#10\"{String})\n",
      "    @ VSCodeServer ~/.vscode/extensions/julialang.language-julia-1.124.2/scripts/packages/VSCodeServer/src/serve_notebook.jl:147\n",
      " [21] top-level scope\n",
      "    @ ~/.vscode/extensions/julialang.language-julia-1.124.2/scripts/notebook/notebook.jl:35"
     ]
    }
   ],
   "source": [
    "using Pseudospectra"
   ]
  },
  {
   "cell_type": "code",
   "execution_count": 3,
   "metadata": {},
   "outputs": [],
   "source": [
    "using LinearAlgebra"
   ]
  },
  {
   "cell_type": "code",
   "execution_count": null,
   "metadata": {},
   "outputs": [],
   "source": [
    "A = Diagonal([1.0; 2.0; 1.2; 3.0])+ 0.0001*rand(4, 4)"
   ]
  },
  {
   "cell_type": "code",
   "execution_count": null,
   "metadata": {},
   "outputs": [],
   "source": [
    "\"\"\"\n",
    "    new_matrix(A::AbstractMatrix, opts::Dict{Symbol,Any}=()) -> ps_data\n",
    "\n",
    "process a matrix into the auxiliary data structure used by Pseudospectra.\n",
    "\n",
    "# Options\n",
    "- `:direct::Bool`: force use of a direct algorithm?\n",
    "- `:keep_sparse::Bool`: use sparse matrix code even if `A` is not large?\n",
    "- `:real_matrix::Bool`: treat `A` as unitarily equivalent to a real matrix?\n",
    "- `:verbosity::Int`: obvious\n",
    "- `:eigA`: eigenvalues of `A`, if already known\n",
    "- `:proj_lev`: projection level (see `psa_compute`)\n",
    "- `:npts`: edge length of grid for computing and plotting pseudospectra\n",
    "- `:arpack_opts::ArpackOptions`: (see type description)\n",
    "- `:levels::Vector{Real}`: contour levels (if automatic choice is not wanted)\n",
    "- `:ax::Vector{Real}(4)`: bounding box for computation `[xmin,xmax,ymin,ymax]`\n",
    "- `:scale_equal::Bool`: force isotropic axes for spectral portraits?\n",
    "- `:threaded::Bool`: distribute `Z` values over Julia threads?\n",
    "\"\"\""
   ]
  },
  {
   "cell_type": "code",
   "execution_count": 4,
   "metadata": {},
   "outputs": [],
   "source": [
    "using Plots"
   ]
  },
  {
   "cell_type": "code",
   "execution_count": null,
   "metadata": {},
   "outputs": [],
   "source": [
    "opts = Dict{Symbol,Any}(:ax => [0.9; 1.5; -0.1; 0.1], :levels => LinRange(-2, -1, 20))"
   ]
  },
  {
   "cell_type": "code",
   "execution_count": null,
   "metadata": {},
   "outputs": [],
   "source": [
    "ps_data = new_matrix(A, opts)"
   ]
  },
  {
   "cell_type": "code",
   "execution_count": 61,
   "metadata": {},
   "outputs": [],
   "source": [
    "setpsplotter(:Plots)"
   ]
  },
  {
   "cell_type": "code",
   "execution_count": 87,
   "metadata": {},
   "outputs": [],
   "source": [
    "driver!(ps_data)"
   ]
  },
  {
   "cell_type": "code",
   "execution_count": null,
   "metadata": {},
   "outputs": [],
   "source": [
    "gs = defaultgs()"
   ]
  },
  {
   "cell_type": "code",
   "execution_count": null,
   "metadata": {},
   "outputs": [],
   "source": [
    "gs.mainph"
   ]
  },
  {
   "cell_type": "code",
   "execution_count": null,
   "metadata": {},
   "outputs": [],
   "source": [
    "# psa_compute(T,npts,ax,eigA,opts,S=I) -> (Z,x,y,levels,info,Tproj,eigAproj,algo)\n",
    "\n",
    "# Compute pseudospectra of a (decomposed) matrix.\n",
    "\n",
    "# Uses a modified version of the code in [Trefethen1999]. If the matrix T is upper triangular (e.g. from a Schur decomposition) the solver is much more efficient than otherwise.\n",
    "\n",
    "# Arguments\n",
    "\n",
    "#     T: input matrix, usu. from schur()\n",
    "#     npts: grid will have npts × npts nodes\n",
    "#     ax: axis on which to plot [min_real, max_real, min_imag, max_imag]\n",
    "#     eigA: eigenvalues of the matrix, usu. also produced by schur(). Pass an empty vector if unknown.\n",
    "#     S: 2nd matrix, if this is a generalized problem arising from an original rectangular matrix.\n",
    "#     opts: a Dict{Symbol,Any} holding options. Keys used here are as follows:\n",
    "\n",
    "# Key\tType\tDefault\tDescription\n",
    "# :levels\tVector{Real}\tauto\tlog10(ϵ) for the desired ϵ levels\n",
    "# :recompute_levels\tBool\ttrue\tautomatically recompute ϵ levels?\n",
    "# :real_matrix\tBool\teltype(A)<:Real\tis the original matrix real? (Portrait is symmetric if so.) This is needed because T could be complex even if A was real.\n",
    "# :proj_lev\tReal\t∞\tThe proportion by which to extend the axes in all directions before projection. If negative, exclude subspace of eigenvalues smaller than inverse fraction. ∞ means no projection.\n",
    "# :scale_equal\tBool\tfalse\tforce the grid to be isotropic?\n",
    "# :threaded\tBool\tfalse\tdistribute computation over Julia threads?\n",
    "\n",
    "# Notes:\n",
    "\n",
    "#     Projection is only done for square, dense matrices. Projection for sparse matrices may be handled (outside this function) by a Krylov method which reduces the matrix to a projected Hessenberg form before invoking psa_compute.\n",
    "#     This function does not compute generalized pseudospectra per se. They may be handled by pre- and post-processing.\n",
    "\n",
    "# Outputs:\n",
    "\n",
    "#     Z: the singular values over the grid\n",
    "#     x: the x coordinates of the grid lines\n",
    "#     y: the y coordinates of the grid lines\n",
    "#     levels: the levels used for the contour plot (if automatically calculated)\n",
    "#     Tproj: the projected matrix (an alias to T if no projection was done)\n",
    "#     eigAproj: eigenvalues projected onto\n",
    "#     algo: a Symbol indicating which algorithm was used\n",
    "#     info: flag indicating where automatic level creation fails:\n",
    "\n",
    "# info\tMeaning\n",
    "# 0\tNo error\n",
    "# -1\tNo levels in range specified (either manually, or if matrix is too normal to show levels)\n",
    "# -2\tMatrix is so non-normal that only zero singular values were found\n",
    "# -3\tComputation cancelled"
   ]
  },
  {
   "cell_type": "code",
   "execution_count": 1,
   "metadata": {},
   "outputs": [
    {
     "ename": "UndefVarError",
     "evalue": "UndefVarError: `psa_compute` not defined in `Main`\nSuggestion: check for spelling errors or missing imports.",
     "output_type": "error",
     "traceback": [
      "UndefVarError: `psa_compute` not defined in `Main`\n",
      "Suggestion: check for spelling errors or missing imports.\n",
      "\n",
      "Stacktrace:\n",
      " [1] top-level scope\n",
      "   @ ~/Dropbox/Lavoro/Collaborators/Blumenthal-Nisoli-Taylor-Crush/DraftPseudospectra/current/Julia_notebooks/jl_notebook_cell_df34fa98e69747e1a8f8a730347b8e2f_X15sZmlsZQ==.jl:1"
     ]
    }
   ],
   "source": [
    "Z,xs,ys,t_levels,err,Tproj,eigAproj,algo = psa_compute(A,npts,\n",
    "                                                             zoom.ax,\n",
    "                                                             eigA, opts\n",
    "                                                            )"
   ]
  },
  {
   "cell_type": "code",
   "execution_count": null,
   "metadata": {},
   "outputs": [],
   "source": [
    "# function _portrait(xs,ys,Z,eigA)\n",
    "#     p = plot()\n",
    "#     contour!(p, xs,ys,log10.(Z))\n",
    "#     scatter!(p, real(eigA), imag(eigA), color=:black, label=\"eigvals\",\n",
    "#              markersize=2)\n",
    "#     p\n",
    "# end"
   ]
  }
 ],
 "metadata": {
  "kernelspec": {
   "display_name": "Julia 1.11.0",
   "language": "julia",
   "name": "julia-1.11"
  },
  "language_info": {
   "file_extension": ".jl",
   "mimetype": "application/julia",
   "name": "julia",
   "version": "1.11.0"
  }
 },
 "nbformat": 4,
 "nbformat_minor": 2
}
