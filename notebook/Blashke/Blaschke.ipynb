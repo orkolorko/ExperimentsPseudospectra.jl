{
 "cells": [
  {
   "cell_type": "code",
   "execution_count": null,
   "metadata": {},
   "outputs": [],
   "source": [
    "import Pkg;\n",
    "Pkg.activate(\"../\")\n",
    "Pkg.instantiate()\n",
    "Pkg.add(url = \"https://github.com/RalphAS/Pseudospectra.jl\")"
   ]
  },
  {
   "cell_type": "code",
   "execution_count": null,
   "metadata": {},
   "outputs": [],
   "source": [
    "using Pseudospectra, Plots"
   ]
  },
  {
   "cell_type": "code",
   "execution_count": null,
   "metadata": {},
   "outputs": [],
   "source": [
    "Pkg.status()"
   ]
  },
  {
   "cell_type": "code",
   "execution_count": null,
   "metadata": {},
   "outputs": [],
   "source": [
    "Pkg.update()"
   ]
  },
  {
   "cell_type": "markdown",
   "metadata": {},
   "source": [
    "# Our example"
   ]
  },
  {
   "cell_type": "markdown",
   "metadata": {},
   "source": [
    "We start by defining the Blashke product \n",
    "$$\n",
    "B_{\\mu}(z) = \\frac{z (\\mu - z)} {1 - \\bar{\\mu} z},\n",
    "$$\n",
    "with $\\mu = \\frac{17\\sqrt{2}}{32} e^{i \\pi/8}$."
   ]
  },
  {
   "cell_type": "code",
   "execution_count": null,
   "metadata": {},
   "outputs": [],
   "source": [
    "r = sqrt(2)*17/32 \n",
    "ϕ = π / 8\n",
    "\n",
    "max_r = 10.0\n",
    "μ = r * exp(im * ϕ)\n",
    "B(z; μ=μ) = (z * (μ - z)) / (1 - μ' * z)"
   ]
  },
  {
   "cell_type": "markdown",
   "metadata": {},
   "source": [
    "# Non rigorous exploration of the Pseudospectrum"
   ]
  },
  {
   "cell_type": "markdown",
   "metadata": {},
   "source": [
    "We fix the truncation size for the Galerkin approximation."
   ]
  },
  {
   "cell_type": "code",
   "execution_count": null,
   "metadata": {},
   "outputs": [],
   "source": [
    "K = 128\n",
    "N = 2*K+1"
   ]
  },
  {
   "cell_type": "markdown",
   "metadata": {},
   "source": [
    "We start by writing the Blashke product as an interval map"
   ]
  },
  {
   "cell_type": "code",
   "execution_count": null,
   "metadata": {},
   "outputs": [],
   "source": [
    "S(x) = 0.5 + atan((sin(2 * pi * x) - r * sin(ϕ)) / (cos(2 * pi * x) - r * cos(ϕ))) / pi"
   ]
  },
  {
   "cell_type": "code",
   "execution_count": null,
   "metadata": {},
   "outputs": [],
   "source": [
    "using Plots\n",
    "plot(S, 0, 1)"
   ]
  },
  {
   "cell_type": "code",
   "execution_count": null,
   "metadata": {},
   "outputs": [],
   "source": [
    "using RigorousInvariantMeasures\n",
    "FourierBasis = RigorousInvariantMeasures.FourierAdjoint(K, 65536)\n",
    "P = DiscretizedOperator(FourierBasis, S)"
   ]
  },
  {
   "cell_type": "code",
   "execution_count": null,
   "metadata": {},
   "outputs": [],
   "source": [
    "import IntervalArithmetic\n",
    "midI = IntervalArithmetic.mid\n",
    "radI = IntervalArithmetic.radius\n",
    "\n",
    "midP = midI.(real.(P.L)) + im * midI.(imag.(P.L))\n",
    "spectralportrait(midP)"
   ]
  },
  {
   "cell_type": "markdown",
   "metadata": {},
   "source": [
    "# Numerical oracle for the constants"
   ]
  },
  {
   "cell_type": "markdown",
   "metadata": {},
   "source": [
    "In this section we do some numerical computations to narrow down the set of parameters. Later on, we will use self-validated numerical methods (Interval Arithmetic) to certify the \n",
    "numerical values we computed now. We do this since numerical computations are inexpensive, while self validated methods may be more time-consuming."
   ]
  },
  {
   "cell_type": "code",
   "execution_count": null,
   "metadata": {},
   "outputs": [],
   "source": [
    "using Plots"
   ]
  },
  {
   "cell_type": "code",
   "execution_count": null,
   "metadata": {},
   "outputs": [],
   "source": [
    "Pkg.status()"
   ]
  },
  {
   "cell_type": "markdown",
   "metadata": {},
   "source": [
    "Let $A_{r} = \\{z \\mid e^{-2\\pi r}\\leq |z| \\leq e^{2\\pi r}\\}$.\n",
    "\n",
    "We are interested in finding $\\eta$, $\\rho$ such that the closure $A_{\\rho}$ is contained in $B_{\\mu}(A_{\\eta})$.\n",
    "We are interested in maximizing $\\alpha-\\eta$, since it is the constant appearing in the main error term of our functional analytic treatment, i.e.:\n",
    "$$\n",
    "||Lf-L_Kf||_{\\mathcal{A}_0}\\leq \\left(1+\\frac{2}{e^{2 \\pi (\\rho-\\alpha)}-1}\\right)\\left(e^{-2\\pi K\\alpha}+e^{-2\\pi K(\\alpha-\\eta)}\\right)||f||_{\\mathcal{A}_{\\alpha}}.\t\n",
    "$$"
   ]
  },
  {
   "cell_type": "markdown",
   "metadata": {},
   "source": [
    "For $\\eta>1$ fix\n",
    "$$\n",
    "\\rho_o(\\eta):=\\frac{1}{2\\pi}\\log\\left(\\min_{\\theta \\in [0,1]}|B_{\\mu}(e^{2\\pi\\eta} e^{2\\pi i \\theta})|\\right)\n",
    "$$\n",
    "where $_0$ stays for outer.\n",
    "We would like to maximize this function."
   ]
  },
  {
   "cell_type": "code",
   "execution_count": null,
   "metadata": {},
   "outputs": [],
   "source": [
    "ρ_o(η) = log(minimum(abs.(B.([exp(2 * π*(η + im * θ)) for θ in 0:0.001:1]))))/(2*π)"
   ]
  },
  {
   "cell_type": "code",
   "execution_count": null,
   "metadata": {},
   "outputs": [],
   "source": [
    "plot(η->ρ_o(η)-η, 1, 10)"
   ]
  },
  {
   "cell_type": "markdown",
   "metadata": {},
   "source": [
    "Similarly, we would like to treat the image inside the circle; for $\\eta>1$ we define \n",
    "$$\n",
    "\\rho_i(\\eta) :=-\\frac{1}{2\\pi}\\log\\left(\\max_{\\theta \\in [0, 1]}\\left|B_{\\mu}(e^{2\\pi (-\\eta + i \\theta)})\\right|\\right)\n",
    "$$"
   ]
  },
  {
   "cell_type": "code",
   "execution_count": null,
   "metadata": {},
   "outputs": [],
   "source": [
    "ρ_i(η) = -log(maximum(abs.(B.([exp(2 * π*(-η + im * θ)) for θ in 0:0.001:1]))))/(2*π)"
   ]
  },
  {
   "cell_type": "code",
   "execution_count": null,
   "metadata": {},
   "outputs": [],
   "source": [
    "plot(η->ρ_i(η)-η, 0, 10)"
   ]
  },
  {
   "cell_type": "markdown",
   "metadata": {},
   "source": [
    "We define now \n",
    "$$\n",
    "\\rho(\\eta) = \\min\\{\\rho_i(\\eta),\\rho_o(\\eta)\\}-\\eta\n",
    "$$\n",
    "we have that our dynamic is expanding the annulus when this function is positive."
   ]
  },
  {
   "cell_type": "code",
   "execution_count": null,
   "metadata": {},
   "outputs": [],
   "source": [
    "ρ(η) = min(ρ_i(η), ρ_o(η))"
   ]
  },
  {
   "cell_type": "markdown",
   "metadata": {},
   "source": [
    "We plot now the function \n",
    "$$\n",
    "    \\eta \\mapsto \\rho(\\eta)-\\eta\n",
    "$$\n",
    "our dynamic is expanding the annulus when this function is positive."
   ]
  },
  {
   "cell_type": "code",
   "execution_count": null,
   "metadata": {},
   "outputs": [],
   "source": [
    "plot(η -> (ρ(η)-η), 0, 5)"
   ]
  },
  {
   "cell_type": "markdown",
   "metadata": {},
   "source": [
    "From this non certified plot, we can see that the the difference $\\rho(\\eta)-\\eta$ seems to converge to an asymptotic value bigger than \n",
    "$0.04551$.\n",
    "\n",
    "We need now to be careful in choosing $\\eta$ and $\\rho$ in such a way that our computation is well behaved.\n",
    "\n",
    "By our numerical exploration of the pseudospectrum, we want to isolate the eigenvalues outside of a circle of radius $0.5$.\n",
    "\n",
    "By Lemma 3.10 and Lemma 3.13, we have that \n",
    "$$\n",
    "\\frac{||f||_{\\mathcal{A}_{\\alpha}}}{||f||_{\\mathcal{A}_{0}}}\\leq 2^{\\frac{\\alpha}{\\alpha-\\eta}} \\left(1+\\frac{2}{e^{2 \\pi (\\rho - \\alpha)} - 1}\\right)^{\\frac{\\alpha}{\\alpha-\\eta}} \n",
    "$$\n",
    "and\n",
    "$$\n",
    "||\\mathcal{L}-\\mathcal{L}_K||_{\\mathcal{A}_{\\alpha}\\to \\mathcal{A}_0}\\leq \\left(1+\\frac{2}{e^{2 \\pi (\\rho - \\alpha)} - 1}\\right)\\left(e^{-2\\pi K\\alpha}+e^{-2\\pi K(\\alpha-\\eta)}\\right).\n",
    "$$\n",
    "\n",
    "We refer to Proposition 2 in the paper, what we would like to control and make small is\n",
    "$$\n",
    "||\\mathcal{L}-\\mathcal{L}_K||_{\\mathcal{A}_{\\alpha}\\to \\mathcal{A}_0}\\frac{||f||_{\\mathcal{A}_{\\alpha}}}{||f||_{\\mathcal{A}_{0}}};\n",
    "$$\n",
    "since $\\rho>\\alpha$ we have then that $\\alpha-\\eta$ is at most $0.04551$.\n",
    "\n",
    "To optimize this, we pass to the logarithm."
   ]
  },
  {
   "cell_type": "code",
   "execution_count": null,
   "metadata": {},
   "outputs": [],
   "source": [
    "bound(η, ρ, α; K, μ) =  α/(α-η)*log(1/μ)+(α/(α-η)+1)*log(1+2/(exp(2*π*(ρ-α))-1))+log(exp(-2*π*K*α)+exp(-2*π*K*(α-η)))"
   ]
  },
  {
   "cell_type": "code",
   "execution_count": null,
   "metadata": {},
   "outputs": [],
   "source": [
    "bound_η_α(η, α; K, μ) = bound(η, ρ(η), α; K, μ)"
   ]
  },
  {
   "cell_type": "code",
   "execution_count": null,
   "metadata": {},
   "outputs": [],
   "source": [
    "function bound_η(η; K, μ)\n",
    "    η_eps = η+(ρ(η)-η)/100\n",
    "    ρ_eps = ρ(η)-(ρ(η)-η)/100\n",
    "    return minimum([bound_η_α(η, α; K, μ) for α in LinRange(η_eps, ρ_eps, 100)])\n",
    "end"
   ]
  },
  {
   "cell_type": "code",
   "execution_count": null,
   "metadata": {},
   "outputs": [],
   "source": [
    "bound_η_log2(η; K, μ) = bound_η(η; K, μ)/log(2)"
   ]
  },
  {
   "cell_type": "code",
   "execution_count": null,
   "metadata": {},
   "outputs": [],
   "source": [
    "plot(η -> bound_η_log2(η; K = 256, μ = 1/2), 0.2, 0.5, label = \"256\")\n",
    "plot!(η -> bound_η_log2(η; K = 128, μ = 1/2), 0.2, 0.5, label = \"128\")\n",
    "plot!(η -> bound_η_log2(η; K = 64, μ = 1/2), 0.2, 0.5, label = \"64\")\n",
    "plot!(η -> 53, label = \"53 = Float64 Mantissa\")"
   ]
  },
  {
   "cell_type": "code",
   "execution_count": null,
   "metadata": {},
   "outputs": [],
   "source": [
    "val, index = findmin([bound_η_log2(η; K = 64, μ = 1/2) for η in LinRange(0.2, 0.5, 10000)])"
   ]
  },
  {
   "cell_type": "markdown",
   "metadata": {},
   "source": [
    "We choose a discretization size of $K=256$. For this discretization size we fix $\\eta = $"
   ]
  },
  {
   "cell_type": "markdown",
   "metadata": {},
   "source": [
    "# Certifying the constants"
   ]
  },
  {
   "cell_type": "markdown",
   "metadata": {},
   "source": [
    "For the specific values of $\\alpha$, $\\rho$ and $\\eta$ computed above, we will certify the value of the constants."
   ]
  },
  {
   "cell_type": "code",
   "execution_count": null,
   "metadata": {},
   "outputs": [],
   "source": [
    "LinRange(0.2, 0.5, 10000)[index]"
   ]
  }
 ],
 "metadata": {
  "kernelspec": {
   "display_name": "Julia 1.11.5",
   "language": "julia",
   "name": "julia-1.11"
  },
  "language_info": {
   "file_extension": ".jl",
   "mimetype": "application/julia",
   "name": "julia",
   "version": "1.11.5"
  }
 },
 "nbformat": 4,
 "nbformat_minor": 2
}
